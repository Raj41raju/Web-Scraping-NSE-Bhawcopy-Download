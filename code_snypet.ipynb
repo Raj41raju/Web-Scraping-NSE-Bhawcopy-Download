{
 "cells": [
  {
   "cell_type": "code",
   "execution_count": 7,
   "metadata": {},
   "outputs": [
    {
     "name": "stdout",
     "output_type": "stream",
     "text": [
      "HI\n"
     ]
    }
   ],
   "source": [
    "import seaborn as sns\n",
    "import requests\n",
    "import zipfile36 as zipfile\n",
    "print('HI')"
   ]
  },
  {
   "cell_type": "code",
   "execution_count": 6,
   "metadata": {},
   "outputs": [
    {
     "name": "stdout",
     "output_type": "stream",
     "text": [
      "Collecting zipfile36\n",
      "  Using cached zipfile36-0.1.3-py3-none-any.whl.metadata (736 bytes)\n",
      "Using cached zipfile36-0.1.3-py3-none-any.whl (20 kB)\n",
      "Installing collected packages: zipfile36\n",
      "Successfully installed zipfile36-0.1.3\n"
     ]
    },
    {
     "name": "stderr",
     "output_type": "stream",
     "text": [
      "\n",
      "[notice] A new release of pip is available: 24.1.2 -> 24.2\n",
      "[notice] To update, run: python.exe -m pip install --upgrade pip\n"
     ]
    }
   ],
   "source": [
    "!pip install zipfile36"
   ]
  },
  {
   "cell_type": "markdown",
   "metadata": {},
   "source": []
  },
  {
   "cell_type": "code",
   "execution_count": 6,
   "metadata": {},
   "outputs": [
    {
     "data": {
      "text/plain": [
       "[datetime.date(2024, 1, 22),\n",
       " datetime.date(2024, 1, 26),\n",
       " datetime.date(2024, 3, 8),\n",
       " datetime.date(2024, 3, 25),\n",
       " datetime.date(2024, 3, 28),\n",
       " datetime.date(2024, 4, 11),\n",
       " datetime.date(2024, 4, 17),\n",
       " datetime.date(2024, 5, 1),\n",
       " datetime.date(2024, 5, 20),\n",
       " datetime.date(2024, 6, 17),\n",
       " datetime.date(2024, 7, 17),\n",
       " datetime.date(2024, 8, 15),\n",
       " datetime.date(2024, 10, 2),\n",
       " datetime.date(2024, 11, 1),\n",
       " datetime.date(2024, 11, 15),\n",
       " datetime.date(2024, 12, 25)]"
      ]
     },
     "execution_count": 6,
     "metadata": {},
     "output_type": "execute_result"
    }
   ],
   "source": [
    "import holidays\n",
    "holidays.holidays(2024)"
   ]
  },
  {
   "cell_type": "code",
   "execution_count": 5,
   "metadata": {},
   "outputs": [
    {
     "data": {
      "text/plain": [
       "[datetime.date(2024, 1, 22),\n",
       " datetime.date(2024, 1, 26),\n",
       " datetime.date(2024, 3, 8),\n",
       " datetime.date(2024, 3, 25),\n",
       " datetime.date(2024, 3, 28),\n",
       " datetime.date(2024, 4, 11),\n",
       " datetime.date(2024, 4, 17),\n",
       " datetime.date(2024, 5, 1),\n",
       " datetime.date(2024, 5, 20),\n",
       " datetime.date(2024, 6, 17),\n",
       " datetime.date(2024, 7, 17),\n",
       " datetime.date(2024, 8, 15),\n",
       " datetime.date(2024, 10, 2),\n",
       " datetime.date(2024, 11, 1),\n",
       " datetime.date(2024, 11, 15),\n",
       " datetime.date(2024, 12, 25)]"
      ]
     },
     "execution_count": 5,
     "metadata": {},
     "output_type": "execute_result"
    }
   ],
   "source": [
    "holidays.holidays(2024)"
   ]
  },
  {
   "cell_type": "code",
   "execution_count": null,
   "metadata": {},
   "outputs": [],
   "source": []
  }
 ],
 "metadata": {
  "kernelspec": {
   "display_name": "Automatic_Bhawcopy_Download-fAo2DY6R",
   "language": "python",
   "name": "python3"
  },
  "language_info": {
   "codemirror_mode": {
    "name": "ipython",
    "version": 3
   },
   "file_extension": ".py",
   "mimetype": "text/x-python",
   "name": "python",
   "nbconvert_exporter": "python",
   "pygments_lexer": "ipython3",
   "version": "3.12.4"
  }
 },
 "nbformat": 4,
 "nbformat_minor": 2
}
