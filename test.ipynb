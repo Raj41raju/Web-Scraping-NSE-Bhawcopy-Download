{
 "cells": [
  {
   "cell_type": "code",
   "execution_count": 1,
   "metadata": {},
   "outputs": [],
   "source": [
    "import zipfile36 as zipfile\n",
    "import requests\n",
    "from datetime import datetime, timedelta, date\n",
    "from dateutil.relativedelta import relativedelta\n",
    "from io import BytesIO\n",
    "import datetime as dt\n",
    "import os\n",
    "import pandas as pd\n",
    "import numpy as np\n"
   ]
  },
  {
   "cell_type": "code",
   "execution_count": 2,
   "metadata": {},
   "outputs": [],
   "source": [
    "header = {\n",
    "    \"Connection\": \"keep-alive\",\n",
    "    \"Cache-Control\": \"max-age=0\",\n",
    "    \"DNT\": \"1\",\n",
    "    \"Upgrade-Insecure-Requests\": \"1\",\n",
    "    \"User-Agent\": \"Mozilla/5.0 (Windows NT 10.0; Win64; x64) AppleWebKit/537.36 (KHTML, like Gecko) \"\n",
    "                  \"Chrome/111.0.0.0 Safari/537.36\",\n",
    "    \"Sec-Fetch-User\": \"?1\", \"Accept\": \"*/*\", \"Sec-Fetch-Site\": \"none\", \"Sec-Fetch-Mode\": \"navigate\",\n",
    "    \"Accept-Encoding\": \"gzip, deflate, br\", \"Accept-Language\": \"en-US,en;q=0.9,hi;q=0.8\"\n",
    "    }"
   ]
  },
  {
   "cell_type": "code",
   "execution_count": 3,
   "metadata": {},
   "outputs": [],
   "source": [
    "def nse_urlfetch(url):\n",
    "    r_session = requests.session()\n",
    "    nse_live = r_session.get(\"http://nseindia.com\", headers=header)\n",
    "    return r_session.get(url, headers=header)"
   ]
  },
  {
   "cell_type": "code",
   "execution_count": 4,
   "metadata": {},
   "outputs": [],
   "source": [
    "def fno_bhav_copy(trade_date: str):\n",
    "    \"\"\"\n",
    "    new CM-UDiFF Common NSE future option bhav copy from 2018 on wards\n",
    "    :param trade_date: eg:'01-06-2023'\n",
    "    :return: pandas Data frame\n",
    "    \"\"\"\n",
    "    # trade_date = datetime.strptime(trade_date, dd_mm_yyyy)\n",
    "    trade_date = datetime.strptime(trade_date, \"%d-%m-%Y\")\n",
    "    url = 'https://nsearchives.nseindia.com/content/fo/BhavCopy_NSE_FO_0_0_0_'\n",
    "    payload = f\"{str(trade_date.strftime('%Y%m%d'))}_F_0000.csv.zip\"\n",
    "    request_bhav = nse_urlfetch(url + payload)\n",
    "    bhav_df = pd.DataFrame()\n",
    "    if request_bhav.status_code == 200:\n",
    "        zip_bhav = zipfile.ZipFile(BytesIO(request_bhav.content), 'r')\n",
    "        for file_name in zip_bhav.filelist:\n",
    "            if file_name:\n",
    "                bhav_df = pd.read_csv(zip_bhav.open(file_name))\n",
    "    elif request_bhav.status_code == 403:\n",
    "        url2 = \"https://www.nseindia.com/api/reports?archives=\" \\\n",
    "             \"%5B%7B%22name%22%3A%22F%26O%20-%20Bhavcopy(csv)%22%2C%22type%22%3A%22archives%22%2C%22category%22\" \\\n",
    "             f\"%3A%22derivatives%22%2C%22section%22%3A%22equity%22%7D%5D&date={str(trade_date.strftime('%d-%b-%Y'))}\" \\\n",
    "             f\"&type=equity&mode=single\"\n",
    "        request_bhav = nse_urlfetch(url2)\n",
    "        if request_bhav.status_code == 200:\n",
    "            zip_bhav = zipfile.ZipFile(BytesIO(request_bhav.content), 'r')\n",
    "            for file_name in zip_bhav.filelist:\n",
    "                if file_name:\n",
    "                    bhav_df = pd.read_csv(zip_bhav.open(file_name))\n",
    "        elif request_bhav.status_code == 403:\n",
    "            raise FileNotFoundError(f' Data not found, change the date...')\n",
    "    # bhav_df = bhav_df[['INSTRUMENT', 'SYMBOL', 'EXPIRY_DT', 'STRIKE_PR', 'OPTION_TYP', 'OPEN', 'HIGH', 'LOW',\n",
    "    #                    'CLOSE', 'SETTLE_PR', 'CONTRACTS', 'VAL_INLAKH', 'OPEN_INT', 'CHG_IN_OI', 'TIMESTAMP']]\n",
    "    return bhav_df\n",
    "\n"
   ]
  },
  {
   "cell_type": "code",
   "execution_count": 78,
   "metadata": {},
   "outputs": [],
   "source": [
    "# curr_date = \"02-01-2024\"\n",
    "curr_date = new_date_format\n",
    "bhawcopy_df = fno_bhav_copy(curr_date)"
   ]
  },
  {
   "cell_type": "code",
   "execution_count": 79,
   "metadata": {},
   "outputs": [],
   "source": [
    "date_obj = datetime.strptime(curr_date, \"%d-%m-%Y\")\n",
    "# Format to YYYY-MM-DD\n",
    "new_date_str = date_obj.strftime(\"%Y-%m-%d\")\n",
    "path = r\"E:\\\\Automatic_Bhawcopy_Download\\\\sample_data_optput\\\\\"\n",
    "filename = path + new_date_str + \"_bhawcopy.csv\"\n",
    "bhawcopy_df.to_csv(filename, index=False)"
   ]
  },
  {
   "cell_type": "markdown",
   "metadata": {},
   "source": [
    "#### Create a Date Range for continious bhawcopy download"
   ]
  },
  {
   "cell_type": "code",
   "execution_count": 57,
   "metadata": {},
   "outputs": [],
   "source": [
    "import holidays\n",
    "start_date = \"01-01-2024\"\n",
    "end_date = \"08-09-2024\"\n",
    "# start_date and end date format %m-%d-%Y or %m/%d/%Y\n",
    "# output format: 2024-01-05 00:00:00 in datetime format\n",
    "date_range = pd.bdate_range(start = start_date, end = end_date, freq ='C',holidays = holidays.holidays(2024))"
   ]
  },
  {
   "cell_type": "code",
   "execution_count": 82,
   "metadata": {},
   "outputs": [
    {
     "name": "stdout",
     "output_type": "stream",
     "text": [
      "01-01-2024 0\n",
      "02-01-2024 1\n",
      "03-01-2024 2\n",
      "04-01-2024 3\n",
      "05-01-2024 4\n",
      "08-01-2024 5\n",
      "09-01-2024 6\n",
      "10-01-2024 7\n",
      "11-01-2024 8\n",
      "12-01-2024 9\n",
      "15-01-2024 10\n",
      "16-01-2024 11\n",
      "17-01-2024 12\n",
      "18-01-2024 13\n",
      "19-01-2024 14\n",
      "22-01-2024 15\n",
      "23-01-2024 16\n",
      "24-01-2024 17\n",
      "25-01-2024 18\n",
      "26-01-2024 19\n",
      "29-01-2024 20\n",
      "30-01-2024 21\n",
      "31-01-2024 22\n",
      "01-02-2024 23\n",
      "02-02-2024 24\n",
      "05-02-2024 25\n",
      "06-02-2024 26\n",
      "07-02-2024 27\n",
      "08-02-2024 28\n",
      "09-02-2024 29\n",
      "12-02-2024 30\n",
      "13-02-2024 31\n",
      "14-02-2024 32\n",
      "15-02-2024 33\n",
      "16-02-2024 34\n",
      "19-02-2024 35\n",
      "20-02-2024 36\n",
      "21-02-2024 37\n",
      "22-02-2024 38\n",
      "23-02-2024 39\n",
      "26-02-2024 40\n",
      "27-02-2024 41\n",
      "28-02-2024 42\n",
      "29-02-2024 43\n",
      "01-03-2024 44\n",
      "04-03-2024 45\n",
      "05-03-2024 46\n",
      "06-03-2024 47\n",
      "07-03-2024 48\n",
      "08-03-2024 49\n",
      "11-03-2024 50\n",
      "12-03-2024 51\n",
      "13-03-2024 52\n",
      "14-03-2024 53\n",
      "15-03-2024 54\n",
      "18-03-2024 55\n",
      "19-03-2024 56\n",
      "20-03-2024 57\n",
      "21-03-2024 58\n",
      "22-03-2024 59\n",
      "25-03-2024 60\n",
      "26-03-2024 61\n",
      "27-03-2024 62\n",
      "28-03-2024 63\n",
      "29-03-2024 64\n",
      "01-04-2024 65\n",
      "02-04-2024 66\n",
      "03-04-2024 67\n",
      "04-04-2024 68\n",
      "05-04-2024 69\n",
      "08-04-2024 70\n",
      "09-04-2024 71\n",
      "10-04-2024 72\n",
      "11-04-2024 73\n",
      "12-04-2024 74\n",
      "15-04-2024 75\n",
      "16-04-2024 76\n",
      "17-04-2024 77\n",
      "18-04-2024 78\n",
      "19-04-2024 79\n",
      "22-04-2024 80\n",
      "23-04-2024 81\n",
      "24-04-2024 82\n",
      "25-04-2024 83\n",
      "26-04-2024 84\n",
      "29-04-2024 85\n",
      "30-04-2024 86\n",
      "01-05-2024 87\n",
      "02-05-2024 88\n",
      "03-05-2024 89\n",
      "06-05-2024 90\n",
      "07-05-2024 91\n",
      "08-05-2024 92\n",
      "09-05-2024 93\n",
      "10-05-2024 94\n",
      "13-05-2024 95\n",
      "14-05-2024 96\n",
      "15-05-2024 97\n",
      "16-05-2024 98\n",
      "17-05-2024 99\n",
      "20-05-2024 100\n",
      "21-05-2024 101\n",
      "22-05-2024 102\n",
      "23-05-2024 103\n",
      "24-05-2024 104\n",
      "27-05-2024 105\n",
      "28-05-2024 106\n",
      "29-05-2024 107\n",
      "30-05-2024 108\n",
      "31-05-2024 109\n",
      "03-06-2024 110\n",
      "04-06-2024 111\n",
      "05-06-2024 112\n",
      "06-06-2024 113\n",
      "07-06-2024 114\n",
      "10-06-2024 115\n",
      "11-06-2024 116\n",
      "12-06-2024 117\n",
      "13-06-2024 118\n",
      "14-06-2024 119\n",
      "17-06-2024 120\n",
      "18-06-2024 121\n",
      "19-06-2024 122\n",
      "20-06-2024 123\n",
      "21-06-2024 124\n",
      "24-06-2024 125\n",
      "25-06-2024 126\n",
      "26-06-2024 127\n",
      "27-06-2024 128\n",
      "28-06-2024 129\n",
      "01-07-2024 130\n",
      "02-07-2024 131\n",
      "03-07-2024 132\n",
      "04-07-2024 133\n",
      "05-07-2024 134\n",
      "08-07-2024 135\n",
      "09-07-2024 136\n",
      "10-07-2024 137\n",
      "11-07-2024 138\n",
      "12-07-2024 139\n",
      "15-07-2024 140\n",
      "16-07-2024 141\n",
      "17-07-2024 142\n",
      "18-07-2024 143\n",
      "19-07-2024 144\n",
      "22-07-2024 145\n",
      "23-07-2024 146\n",
      "24-07-2024 147\n",
      "25-07-2024 148\n",
      "26-07-2024 149\n",
      "29-07-2024 150\n",
      "30-07-2024 151\n",
      "31-07-2024 152\n",
      "01-08-2024 153\n",
      "02-08-2024 154\n",
      "05-08-2024 155\n",
      "06-08-2024 156\n",
      "07-08-2024 157\n",
      "08-08-2024 158\n",
      "09-08-2024 159\n"
     ]
    }
   ],
   "source": [
    "for index, cday in enumerate(date_range):\n",
    "    # print(cday)\n",
    "    temp_date = cday.date()\n",
    "    curr_date = temp_date.strftime(\"%d-%m-%Y\")\n",
    "    print(curr_date, index)\n",
    "\n",
    "    bhawcopy_df = fno_bhav_copy(curr_date)\n",
    "    \n",
    "    date_obj = datetime.strptime(curr_date, \"%d-%m-%Y\")\n",
    "    # Format to YYYY-MM-DD\n",
    "    new_date_str = date_obj.strftime(\"%Y-%m-%d\")\n",
    "    path = r\"E:\\Bhawcopy_2024\\\\\"\n",
    "    filename = path + new_date_str + \"_bhawcopy.csv\"\n",
    "    bhawcopy_df.to_csv(filename, index=False)\n",
    "    # break"
   ]
  },
  {
   "cell_type": "code",
   "execution_count": 77,
   "metadata": {},
   "outputs": [
    {
     "data": {
      "text/plain": [
       "'05-01-2024'"
      ]
     },
     "execution_count": 77,
     "metadata": {},
     "output_type": "execute_result"
    }
   ],
   "source": [
    "new_date_format"
   ]
  },
  {
   "cell_type": "code",
   "execution_count": 72,
   "metadata": {},
   "outputs": [
    {
     "data": {
      "text/plain": [
       "'2024-01-01'"
      ]
     },
     "execution_count": 72,
     "metadata": {},
     "output_type": "execute_result"
    }
   ],
   "source": [
    "str(cday.date())"
   ]
  },
  {
   "cell_type": "code",
   "execution_count": 73,
   "metadata": {},
   "outputs": [
    {
     "data": {
      "text/plain": [
       "'01-01-2024'"
      ]
     },
     "execution_count": 73,
     "metadata": {},
     "output_type": "execute_result"
    }
   ],
   "source": [
    "temp_date = cday.date()\n",
    "temp_date.strftime(\"%d-%m-%Y\")"
   ]
  },
  {
   "cell_type": "markdown",
   "metadata": {},
   "source": [
    "#### TO Save CSV File Directlly"
   ]
  },
  {
   "cell_type": "code",
   "execution_count": 31,
   "metadata": {},
   "outputs": [],
   "source": [
    "trade_date = \"04-02-2021\"\n",
    "# trade_date = datetime.strptime(trade_date, dd_mm_yyyy)\n",
    "trade_date = datetime.strptime(trade_date, \"%d-%m-%Y\")\n",
    "url = 'https://nsearchives.nseindia.com/content/fo/BhavCopy_NSE_FO_0_0_0_'\n",
    "payload = f\"{str(trade_date.strftime('%Y%m%d'))}_F_0000.csv.zip\"\n",
    "request_bhav = nse_urlfetch(url + payload)\n",
    "bhav_df = pd.DataFrame()\n",
    "if request_bhav.status_code == 200:\n",
    "    print(request_bhav)\n",
    "    print(request_bhav.text)\n",
    "    zip_bhav = zipfile.ZipFile(BytesIO(request_bhav.content), 'r')\n",
    "    # print(zip_bhav)\n",
    "    # zip_bhav = zipfile.ZipFile(BytesIO(request_bhav.content), 'r')\n",
    "    # for file_name in zip_bhav.filelist:\n",
    "    #     if file_name:\n",
    "            # bhav_df = pd.read_csv(zip_bhav.open(file_name))\n",
    "elif request_bhav.status_code == 403:\n",
    "    url2 = \"https://www.nseindia.com/api/reports?archives=\" \\\n",
    "            \"%5B%7B%22name%22%3A%22F%26O%20-%20Bhavcopy(csv)%22%2C%22type%22%3A%22archives%22%2C%22category%22\" \\\n",
    "            f\"%3A%22derivatives%22%2C%22section%22%3A%22equity%22%7D%5D&date={str(trade_date.strftime('%d-%b-%Y'))}\" \\\n",
    "            f\"&type=equity&mode=single\"\n",
    "    request_bhav = nse_urlfetch(url2)\n",
    "    if request_bhav.status_code == 200:\n",
    "        print(request_bhav)\n",
    "        print(request_bhav.text)\n",
    "        zip_bhav = zipfile.ZipFile(BytesIO(request_bhav.content), 'r')\n",
    "        # print(zip_bhav)\n",
    "        # zip_bhav = zipfile.ZipFile(BytesIO(request_bhav.content), 'r')\n",
    "        # for file_name in zip_bhav.filelist:\n",
    "        #     if file_name:\n",
    "        #         bhav_df = pd.read_csv(zip_bhav.open(file_name))\n",
    "    elif request_bhav.status_code == 403:\n",
    "        raise FileNotFoundError(f' Data not found, change the date...')\n",
    "# bhav_df = bhav_df[['INSTRUMENT', 'SYMBOL', 'EXPIRY_DT', 'STRIKE_PR', 'OPTION_TYP', 'OPEN', 'HIGH', 'LOW',\n",
    "#                    'CLOSE', 'SETTLE_PR', 'CONTRACTS', 'VAL_INLAKH', 'OPEN_INT', 'CHG_IN_OI', 'TIMESTAMP']]\n",
    "\n"
   ]
  },
  {
   "cell_type": "code",
   "execution_count": null,
   "metadata": {},
   "outputs": [],
   "source": []
  },
  {
   "cell_type": "code",
   "execution_count": null,
   "metadata": {},
   "outputs": [],
   "source": []
  },
  {
   "cell_type": "code",
   "execution_count": 17,
   "metadata": {},
   "outputs": [
    {
     "name": "stderr",
     "output_type": "stream",
     "text": [
      "<>:29: SyntaxWarning: invalid escape sequence '\\A'\n",
      "<>:29: SyntaxWarning: invalid escape sequence '\\A'\n",
      "C:\\Users\\RAJU SINGH\\AppData\\Local\\Temp\\ipykernel_14536\\818893707.py:29: SyntaxWarning: invalid escape sequence '\\A'\n",
      "  output_directory = \"E:\\Automatic_Bhawcopy_Download\\sample_data_and_O\"\n"
     ]
    }
   ],
   "source": [
    "def fno_bhav_copy(trade_date: str):\n",
    "    \"\"\"\n",
    "    new CM-UDiFF Common NSE future option bhav copy from 2018 on wards\n",
    "    :param trade_date: eg:'01-06-2023'\n",
    "    :return: pandas Data frame\n",
    "    \"\"\"\n",
    "    # trade_date = datetime.strptime(trade_date, dd_mm_yyyy)\n",
    "    trade_date = datetime.strptime(trade_date, \"%d-%m-%Y\")\n",
    "    url = 'https://nsearchives.nseindia.com/content/fo/BhavCopy_NSE_FO_0_0_0_'\n",
    "    payload = f\"{str(trade_date.strftime('%Y%m%d'))}_F_0000.csv.zip\"\n",
    "    request_bhav = nse_urlfetch(url + payload)\n",
    "    bhav_df = pd.DataFrame()\n",
    "    if request_bhav.status_code == 200:\n",
    "        zip_bhav = zipfile.ZipFile(BytesIO(request_bhav.content), 'r')\n",
    "        for file_name in zip_bhav.filelist:\n",
    "            if file_name:\n",
    "                bhav_df = pd.read_csv(zip_bhav.open(file_name))\n",
    "    elif request_bhav.status_code == 403:\n",
    "        url2 = \"https://www.nseindia.com/api/reports?archives=\" \\\n",
    "             \"%5B%7B%22name%22%3A%22F%26O%20-%20Bhavcopy(csv)%22%2C%22type%22%3A%22archives%22%2C%22category%22\" \\\n",
    "             f\"%3A%22derivatives%22%2C%22section%22%3A%22equity%22%7D%5D&date={str(trade_date.strftime('%d-%b-%Y'))}\" \\\n",
    "             f\"&type=equity&mode=single\"\n",
    "        request_bhav = nse_urlfetch(url2)\n",
    "        if request_bhav.status_code == 200:\n",
    "            zip_bhav = zipfile.ZipFile(BytesIO(request_bhav.content), 'r')\n",
    "            for file_name in zip_bhav.filelist:\n",
    "                if file_name.filename.endswith('.csv'):\n",
    "                # Define the full path for saving the CSV file\n",
    "                    output_directory = \"E:\\Automatic_Bhawcopy_Download\\sample_data_and_O\"\n",
    "                    output_path = os.path.join(output_directory, file_name.filename)\n",
    "                    \n",
    "                    # Read the file directly from the ZIP archive and save it\n",
    "                    with zip_bhav.open(file_name.filename) as file:\n",
    "                        with open(output_path, 'wb') as output_file:\n",
    "                            output_file.write(file.read())\n",
    "        elif request_bhav.status_code == 403:\n",
    "            raise FileNotFoundError(f' Data not found, change the date...')\n",
    "    # bhav_df = bhav_df[['INSTRUMENT', 'SYMBOL', 'EXPIRY_DT', 'STRIKE_PR', 'OPTION_TYP', 'OPEN', 'HIGH', 'LOW',\n",
    "    #                    'CLOSE', 'SETTLE_PR', 'CONTRACTS', 'VAL_INLAKH', 'OPEN_INT', 'CHG_IN_OI', 'TIMESTAMP']]\n",
    "    return [os.path.join(output_directory, file_info.filename) for file_info in zip_bhav.filelist if file_info.filename.endswith('.csv')]\n",
    "\n",
    "\n"
   ]
  },
  {
   "cell_type": "code",
   "execution_count": null,
   "metadata": {},
   "outputs": [],
   "source": []
  },
  {
   "cell_type": "code",
   "execution_count": 18,
   "metadata": {},
   "outputs": [
    {
     "name": "stderr",
     "output_type": "stream",
     "text": [
      "C:\\Users\\RAJU SINGH\\AppData\\Local\\Temp\\ipykernel_14536\\818893707.py:29: SyntaxWarning: invalid escape sequence '\\A'\n",
      "  output_directory = \"E:\\Automatic_Bhawcopy_Download\\sample_data_and_O\"\n"
     ]
    },
    {
     "ename": "UnboundLocalError",
     "evalue": "cannot access local variable 'output_directory' where it is not associated with a value",
     "output_type": "error",
     "traceback": [
      "\u001b[1;31m---------------------------------------------------------------------------\u001b[0m",
      "\u001b[1;31mUnboundLocalError\u001b[0m                         Traceback (most recent call last)",
      "Cell \u001b[1;32mIn[18], line 1\u001b[0m\n\u001b[1;32m----> 1\u001b[0m \u001b[43mfno_bhav_copy\u001b[49m\u001b[43m(\u001b[49m\u001b[38;5;124;43m\"\u001b[39;49m\u001b[38;5;124;43m09-08-2024\u001b[39;49m\u001b[38;5;124;43m\"\u001b[39;49m\u001b[43m)\u001b[49m\n",
      "Cell \u001b[1;32mIn[17], line 40\u001b[0m, in \u001b[0;36mfno_bhav_copy\u001b[1;34m(trade_date)\u001b[0m\n\u001b[0;32m     37\u001b[0m         \u001b[38;5;28;01mraise\u001b[39;00m \u001b[38;5;167;01mFileNotFoundError\u001b[39;00m(\u001b[38;5;124mf\u001b[39m\u001b[38;5;124m'\u001b[39m\u001b[38;5;124m Data not found, change the date...\u001b[39m\u001b[38;5;124m'\u001b[39m)\n\u001b[0;32m     38\u001b[0m \u001b[38;5;66;03m# bhav_df = bhav_df[['INSTRUMENT', 'SYMBOL', 'EXPIRY_DT', 'STRIKE_PR', 'OPTION_TYP', 'OPEN', 'HIGH', 'LOW',\u001b[39;00m\n\u001b[0;32m     39\u001b[0m \u001b[38;5;66;03m#                    'CLOSE', 'SETTLE_PR', 'CONTRACTS', 'VAL_INLAKH', 'OPEN_INT', 'CHG_IN_OI', 'TIMESTAMP']]\u001b[39;00m\n\u001b[1;32m---> 40\u001b[0m \u001b[38;5;28;01mreturn\u001b[39;00m [os\u001b[38;5;241m.\u001b[39mpath\u001b[38;5;241m.\u001b[39mjoin(\u001b[43moutput_directory\u001b[49m, file_info\u001b[38;5;241m.\u001b[39mfilename) \u001b[38;5;28;01mfor\u001b[39;00m file_info \u001b[38;5;129;01min\u001b[39;00m zip_bhav\u001b[38;5;241m.\u001b[39mfilelist \u001b[38;5;28;01mif\u001b[39;00m file_info\u001b[38;5;241m.\u001b[39mfilename\u001b[38;5;241m.\u001b[39mendswith(\u001b[38;5;124m'\u001b[39m\u001b[38;5;124m.csv\u001b[39m\u001b[38;5;124m'\u001b[39m)]\n",
      "\u001b[1;31mUnboundLocalError\u001b[0m: cannot access local variable 'output_directory' where it is not associated with a value"
     ]
    }
   ],
   "source": [
    "fno_bhav_copy(\"09-08-2024\")"
   ]
  },
  {
   "cell_type": "code",
   "execution_count": 8,
   "metadata": {},
   "outputs": [
    {
     "name": "stdout",
     "output_type": "stream",
     "text": [
      "Requirement already satisfied: pandas in c:\\users\\raju singh\\.virtualenvs\\automatic_bhawcopy_download-fao2dy6r\\lib\\site-packages (2.2.2)\n",
      "Requirement already satisfied: numpy>=1.26.0 in c:\\users\\raju singh\\.virtualenvs\\automatic_bhawcopy_download-fao2dy6r\\lib\\site-packages (from pandas) (2.0.1)\n",
      "Requirement already satisfied: python-dateutil>=2.8.2 in c:\\users\\raju singh\\.virtualenvs\\automatic_bhawcopy_download-fao2dy6r\\lib\\site-packages (from pandas) (2.9.0.post0)\n",
      "Requirement already satisfied: pytz>=2020.1 in c:\\users\\raju singh\\.virtualenvs\\automatic_bhawcopy_download-fao2dy6r\\lib\\site-packages (from pandas) (2024.1)\n",
      "Requirement already satisfied: tzdata>=2022.7 in c:\\users\\raju singh\\.virtualenvs\\automatic_bhawcopy_download-fao2dy6r\\lib\\site-packages (from pandas) (2024.1)\n",
      "Requirement already satisfied: six>=1.5 in c:\\users\\raju singh\\.virtualenvs\\automatic_bhawcopy_download-fao2dy6r\\lib\\site-packages (from python-dateutil>=2.8.2->pandas) (1.16.0)\n"
     ]
    },
    {
     "name": "stderr",
     "output_type": "stream",
     "text": [
      "\n",
      "[notice] A new release of pip is available: 24.1.2 -> 24.2\n",
      "[notice] To update, run: python.exe -m pip install --upgrade pip\n"
     ]
    }
   ],
   "source": [
    "!pip install pandas"
   ]
  },
  {
   "cell_type": "code",
   "execution_count": 84,
   "metadata": {},
   "outputs": [
    {
     "data": {
      "text/plain": [
       "DatetimeIndex(['2024-01-01', '2024-01-02', '2024-01-03', '2024-01-04',\n",
       "               '2024-01-05', '2024-01-08', '2024-01-09', '2024-01-10',\n",
       "               '2024-01-11', '2024-01-12', '2024-01-15', '2024-01-16',\n",
       "               '2024-01-17', '2024-01-18', '2024-01-19', '2024-01-22',\n",
       "               '2024-01-23', '2024-01-24', '2024-01-25', '2024-01-26'],\n",
       "              dtype='datetime64[ns]', freq='C')"
      ]
     },
     "execution_count": 84,
     "metadata": {},
     "output_type": "execute_result"
    }
   ],
   "source": [
    "start_date = \"01-01-2024\"\n",
    "end_date = \"28-01-2024\"\n",
    "# start_date and end date format %m-%d-%Y or %m/%d/%Y\n",
    "# output format: 2024-01-05 00:00:00 in datetime format\n",
    "date_range = pd.bdate_range(start = start_date, end = end_date, freq ='C',holidays = holidays.holidays(2024))\n",
    "date_range"
   ]
  },
  {
   "cell_type": "code",
   "execution_count": 96,
   "metadata": {},
   "outputs": [
    {
     "data": {
      "text/plain": [
       "[]"
      ]
     },
     "execution_count": 96,
     "metadata": {},
     "output_type": "execute_result"
    }
   ],
   "source": [
    "from holidays import holidays\n",
    "holidays(2024)"
   ]
  },
  {
   "cell_type": "code",
   "execution_count": 99,
   "metadata": {},
   "outputs": [
    {
     "data": {
      "text/plain": [
       "[]"
      ]
     },
     "execution_count": 99,
     "metadata": {},
     "output_type": "execute_result"
    }
   ],
   "source": [
    "import holidays\n",
    "holidays.holidays(2024)"
   ]
  },
  {
   "cell_type": "code",
   "execution_count": null,
   "metadata": {},
   "outputs": [],
   "source": []
  }
 ],
 "metadata": {
  "kernelspec": {
   "display_name": "Automatic_Bhawcopy_Download-fAo2DY6R",
   "language": "python",
   "name": "python3"
  },
  "language_info": {
   "codemirror_mode": {
    "name": "ipython",
    "version": 3
   },
   "file_extension": ".py",
   "mimetype": "text/x-python",
   "name": "python",
   "nbconvert_exporter": "python",
   "pygments_lexer": "ipython3",
   "version": "3.12.4"
  }
 },
 "nbformat": 4,
 "nbformat_minor": 2
}
